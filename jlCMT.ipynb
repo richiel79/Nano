{
 "cells": [
  {
   "cell_type": "code",
   "execution_count": 2,
   "metadata": {},
   "outputs": [],
   "source": [
    "using DifferentialEquations, DiffEqCallbacks, LinearAlgebra, Plots, Interact"
   ]
  },
  {
   "cell_type": "code",
   "execution_count": null,
   "metadata": {},
   "outputs": [],
   "source": [
    "# Define constants \n",
    "eps0 = 8.8541878128e-12 ;\n",
    "mu0 = 1.256637062e-6;\n",
    "c0 = 1/sqrt(eps0*mu0);\n",
    "imp0 = sqrt(mu0/eps0);\n",
    "Q_factor = 1e9;\n",
    "\n",
    "center_wavelength = 1550e-9;\n",
    "omega0 = 2 * π * c0/center_wavelength;\n",
    "pulse_width = 10e-15;\n",
    "pulse_delay = 4 * pulse_width;"
   ]
  },
  {
   "cell_type": "markdown",
   "metadata": {},
   "source": [
    "Playing around with the signal function solving a driven CMT system"
   ]
  },
  {
   "cell_type": "code",
   "execution_count": null,
   "metadata": {},
   "outputs": [],
   "source": [
    "#Define the input guassian signal \n",
    "function signal(t; delay=pulse_delay, width=pulse_width, ω=omega0)\n",
    "    exp(-((t-delay)/width)^2) * sin(ω*t)\n",
    "end\n",
    "\n",
    "# Physics and coupling parameters\n",
    "ω, κ = 2π*pulse_width, 1.0\n",
    "γ = 1e13\n",
    "\n",
    "# Define the CMT ODE du/dt = f(u, p, t) function\n",
    "function driven_cmt!(du, u, p, t)\n",
    "    ω, κ, γ = p\n",
    "    s = signal(t) # external drive\n",
    "    # mode 1: self-oscillation + coupling + input\n",
    "    du[1] = (1im*ω - γ/2) * u[1] + 1im*κ*u[2] + sqrt(γ)*s\n",
    "    # mode 2: self-oscillation + coupling\n",
    "    du[2] = (1im*ω - γ/2)*u[2] + 1im*κ*u[1] + sqrt(γ)\n",
    "end \n",
    "\n",
    "# Initial condition and parameters\n",
    "u0 = ComplexF64[0.0 + 0im, 0.0 + 0im] # start with no energy\n",
    "E0 = real(dot(conj(u0), u0)) \n",
    "p = (ω, κ, γ)\n",
    "t_end = pulse_delay + 4 * pulse_width\n",
    "tspan = (0.0,t_end)\n",
    "\n",
    "# solve\n",
    "prob = ODEProblem(driven_cmt!, u0, tspan, p)\n",
    "sol = solve(prob, Tsit5())\n",
    "\n",
    "# Extract time points and mode amplitudes\n",
    "ts = sol.t\n",
    "a1 = [u[1] for u in sol.u]\n",
    "a2 = [u[2] for u in sol.u]\n",
    "\n",
    "plot(ts, abs2.(a1), label=\"Mode 1 |a₁|²\", xlabel=\"Time (s)\", ylabel=\"Energy\",lw=3)\n",
    "plot!(ts, abs2.(a2), label=\"Mode 2 |a₂|²\", ls =:dot,lw=5)\n"
   ]
  },
  {
   "cell_type": "markdown",
   "metadata": {},
   "source": [
    "This section will attempt to model the nonlinear equation: Bistability CMT"
   ]
  },
  {
   "cell_type": "code",
   "execution_count": null,
   "metadata": {},
   "outputs": [],
   "source": [
    "# Bistable TCMT ODE\n",
    "function TMCT_bi!(du, u, p, t)\n",
    "    s = signal(t)\n",
    "    ω, α, τ = p # resonance, Kerr coeff, lifetime\n",
    "\n",
    "    du[1] = -1im*(ω - α*abs2(u[1]))*u[1] - (2/τ)*u[1] + sqrt(2/τ)*s\n",
    "end"
   ]
  },
  {
   "cell_type": "markdown",
   "metadata": {},
   "source": [
    "Set up the ODE problem and solver"
   ]
  },
  {
   "cell_type": "code",
   "execution_count": null,
   "metadata": {},
   "outputs": [],
   "source": [
    "u0 = ComplexF64[0.0+0im]\n",
    "ω0 = 2π*1e14\n",
    "α = 1e3\n",
    "τ = 1e-13\n",
    "p = (ω0, α, τ)\n",
    "tspan = (0.0, 1e-12)\n",
    "\n",
    "prob = ODEProblem(TMCT_bi!, u0, tspan, p)\n",
    "sol = solve(prob, Tsit5(); dt=1e-16, saveat=1e-15)\n",
    "times = sol.t \n",
    "u_vals = [u[1] for u in sol.u];"
   ]
  },
  {
   "cell_type": "markdown",
   "metadata": {},
   "source": [
    "Intracavity Energy |u|² vs. time"
   ]
  },
  {
   "cell_type": "code",
   "execution_count": null,
   "metadata": {},
   "outputs": [],
   "source": [
    "plot(\n",
    "    times .* 1e12, \n",
    "    abs2.(u_vals),\n",
    "    xlabel=\"Time (ps)\",\n",
    "    ylabel=\"|u|²\",\n",
    "    title=\"Bistable TCMT: Intracavity Energy\",\n",
    "    legend=false\n",
    ")"
   ]
  },
  {
   "cell_type": "markdown",
   "metadata": {},
   "source": [
    "Real and Imaginary Components vs. Time\n"
   ]
  },
  {
   "cell_type": "code",
   "execution_count": null,
   "metadata": {},
   "outputs": [],
   "source": [
    "plot(\n",
    "    times .* 1e12,\n",
    "    real.(u_vals),\n",
    "    label=\"Re(u)\"\n",
    ")\n",
    "plot!(times .* 1e12, imag.(u_vals), label=\"Im(u)\", xlabel=\"Time (ps)\", ylabel=\"Amplitude\")"
   ]
  },
  {
   "cell_type": "markdown",
   "metadata": {},
   "source": [
    "Phase-Space Plot"
   ]
  },
  {
   "cell_type": "code",
   "execution_count": null,
   "metadata": {},
   "outputs": [],
   "source": [
    "plot(real.(u_vals), imag.(u_vals), xlabel=\"Re(u)\", ylabel=\"Im(u)\", title=\"Phase-Space Trajectory\", legend=false)"
   ]
  },
  {
   "cell_type": "code",
   "execution_count": null,
   "metadata": {},
   "outputs": [],
   "source": [
    "# Plot magnitdues vs time\n",
    "plot(ts,\n",
    "     abs.(a1),\n",
    "     label=\"|a₁|\",\n",
    "     xlabel=\"Time (s)\",\n",
    "     ylabel=\"Magnitude\",\n",
    "     legend=:topright\n",
    ")\n",
    "plot!(ts,\n",
    "      abs.(a2),\n",
    "      label=\"|a₂|\"\n",
    ")"
   ]
  },
  {
   "cell_type": "markdown",
   "metadata": {},
   "source": [
    "Mapping out the bistable responsed curve by sweeping the drive strength S up and then back down. Plotting SST intracavity energy |u|² vs. S"
   ]
  },
  {
   "cell_type": "code",
   "execution_count": null,
   "metadata": {},
   "outputs": [],
   "source": [
    "#Rotating-frame single mode bistable TCMT ODE\n",
    "function bifur!(du, u, p, t)\n",
    "    Δ, α, τ, S = p\n",
    "    du[1] = -1(1/τ + 1im*Δ)*u[1] - 1im*α*abs2(u[1])*u[1]+sqrt(2/τ)*S\n",
    "end\n",
    "\n",
    "#Fixed parameters\n",
    "Δ = 2π*1e12 # detuning [rad/s]\n",
    "α = 1e3 # Kerr coefficient\n",
    "τ = 1e-13 # photon lifetime [s]\n",
    "tspan = (0.0, 5e-10) #long enough to reach steady state\n",
    "u0 = ComplexF64[0.0]\n",
    "\n",
    "# Sweep drive S ↑ then ↓\n",
    "Smax = 5e5\n",
    "npts = 80\n",
    "Ss = range(0, Smax; length=npts)\n",
    "\n",
    "energies_up = Float64[]\n",
    "energies_down = Float64[]\n",
    "\n",
    "# Looping through ascending S\n",
    "for S in Ss \n",
    "    p = (Δ, α,τ, S)\n",
    "    prob = ODEProblem(bifur!, u0, tspan, p)\n",
    "    sol = solve(prob, Tsit5(); reltol=1e-8, abstol=1e-8)\n",
    "    push!(energies_up, abs2(sol.u[end][1]))\n",
    "    u0[1] = sol.u[end][1]\n",
    "end\n",
    "\n",
    "for S in reverse(Ss)\n",
    "    p = (Δ, α,τ, S)\n",
    "    prob = ODEProblem(bifur!, u0, tspan, p)\n",
    "    sol = solve(prob, Tsit5(); reltol=1e-8, abstol=1e-8)\n",
    "    push!(energies_down, abs2(sol.u[end][1]))\n",
    "    u0[1] = sol.u[end][1]\n",
    "end\n",
    "\n",
    "plot(Ss, energies_up; label=\"↑ sweep\", xlabel=\"Drive Amplitude S\", ylabel=\"Steady-state |u|²\", title=\"Bistability Hysteresis\", legend=:topleft)\n",
    "plot!(Ss, reverse(energies_down); label=\"↓ sweep\")\n",
    "\n",
    "# Obtain a WebIO error and can't seem to troubleshoot it right"
   ]
  }
 ],
 "metadata": {
  "kernelspec": {
   "display_name": "Julia 1.11.5",
   "language": "julia",
   "name": "julia-1.11"
  },
  "language_info": {
   "file_extension": ".jl",
   "mimetype": "application/julia",
   "name": "julia",
   "version": "1.11.5"
  }
 },
 "nbformat": 4,
 "nbformat_minor": 2
}
